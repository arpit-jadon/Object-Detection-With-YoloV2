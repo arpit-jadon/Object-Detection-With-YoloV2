{
  "nbformat": 4,
  "nbformat_minor": 0,
  "metadata": {
    "colab": {
      "name": "yolov2implementation.ipynb",
      "version": "0.3.2",
      "provenance": [],
      "collapsed_sections": []
    },
    "kernelspec": {
      "name": "python3",
      "display_name": "Python 3"
    }
  },
  "cells": [
    {
      "cell_type": "code",
      "metadata": {
        "id": "V1L8J9GLFQgN",
        "colab_type": "code",
        "outputId": "759b3a58-cb91-420c-dc66-98128b52510d",
        "colab": {
          "base_uri": "https://localhost:8080/",
          "height": 34
        }
      },
      "source": [
        "from google.colab import drive\n",
        "drive.mount('/content/gdrive')"
      ],
      "execution_count": 0,
      "outputs": [
        {
          "output_type": "stream",
          "text": [
            "Drive already mounted at /content/gdrive; to attempt to forcibly remount, call drive.mount(\"/content/gdrive\", force_remount=True).\n"
          ],
          "name": "stdout"
        }
      ]
    },
    {
      "cell_type": "code",
      "metadata": {
        "id": "n-tttFADFmu8",
        "colab_type": "code",
        "outputId": "44daf3bf-7199-43ec-bfcd-664c81034e30",
        "colab": {
          "base_uri": "https://localhost:8080/",
          "height": 102
        }
      },
      "source": [
        "!git clone https://github.com/thtrieu/darkflow.git"
      ],
      "execution_count": 0,
      "outputs": [
        {
          "output_type": "stream",
          "text": [
            "Cloning into 'darkflow'...\n",
            "remote: Enumerating objects: 2706, done.\u001b[K\n",
            "remote: Total 2706 (delta 0), reused 0 (delta 0), pack-reused 2706\u001b[K\n",
            "Receiving objects: 100% (2706/2706), 32.98 MiB | 15.66 MiB/s, done.\n",
            "Resolving deltas: 100% (1760/1760), done.\n"
          ],
          "name": "stdout"
        }
      ]
    },
    {
      "cell_type": "code",
      "metadata": {
        "id": "EKJn8mBbFssD",
        "colab_type": "code",
        "outputId": "3ddf1c4b-d660-4677-9e05-15c44a04670a",
        "colab": {
          "base_uri": "https://localhost:8080/",
          "height": 34
        }
      },
      "source": [
        "cd darkflow"
      ],
      "execution_count": 0,
      "outputs": [
        {
          "output_type": "stream",
          "text": [
            "/content/gdrive/My Drive/darkflow\n"
          ],
          "name": "stdout"
        }
      ]
    },
    {
      "cell_type": "code",
      "metadata": {
        "id": "pEmduO8YFwvg",
        "colab_type": "code",
        "outputId": "3607b0a7-3baf-45e7-cf94-f18814f3ff5f",
        "colab": {
          "base_uri": "https://localhost:8080/",
          "height": 938
        }
      },
      "source": [
        "!python3 setup.py build_ext --inplace"
      ],
      "execution_count": 0,
      "outputs": [
        {
          "output_type": "stream",
          "text": [
            "Compiling darkflow/cython_utils/nms.pyx because it changed.\n",
            "Compiling darkflow/cython_utils/cy_yolo2_findboxes.pyx because it changed.\n",
            "Compiling darkflow/cython_utils/cy_yolo_findboxes.pyx because it changed.\n",
            "[1/3] Cythonizing darkflow/cython_utils/cy_yolo2_findboxes.pyx\n",
            "/usr/local/lib/python3.6/dist-packages/Cython/Compiler/Main.py:367: FutureWarning: Cython directive 'language_level' not set, using 2 for now (Py2). This will change in a later release! File: /content/gdrive/My Drive/darkflow/darkflow/cython_utils/cy_yolo2_findboxes.pyx\n",
            "  tree = Parsing.p_module(s, pxd, full_module_name)\n",
            "[2/3] Cythonizing darkflow/cython_utils/cy_yolo_findboxes.pyx\n",
            "/usr/local/lib/python3.6/dist-packages/Cython/Compiler/Main.py:367: FutureWarning: Cython directive 'language_level' not set, using 2 for now (Py2). This will change in a later release! File: /content/gdrive/My Drive/darkflow/darkflow/cython_utils/cy_yolo_findboxes.pyx\n",
            "  tree = Parsing.p_module(s, pxd, full_module_name)\n",
            "[3/3] Cythonizing darkflow/cython_utils/nms.pyx\n",
            "/usr/local/lib/python3.6/dist-packages/Cython/Compiler/Main.py:367: FutureWarning: Cython directive 'language_level' not set, using 2 for now (Py2). This will change in a later release! File: /content/gdrive/My Drive/darkflow/darkflow/cython_utils/nms.pxd\n",
            "  tree = Parsing.p_module(s, pxd, full_module_name)\n",
            "running build_ext\n",
            "building 'darkflow.cython_utils.nms' extension\n",
            "creating build\n",
            "creating build/temp.linux-x86_64-3.6\n",
            "creating build/temp.linux-x86_64-3.6/darkflow\n",
            "creating build/temp.linux-x86_64-3.6/darkflow/cython_utils\n",
            "x86_64-linux-gnu-gcc -pthread -DNDEBUG -g -fwrapv -O2 -Wall -g -fstack-protector-strong -Wformat -Werror=format-security -Wdate-time -D_FORTIFY_SOURCE=2 -fPIC -I/usr/local/lib/python3.6/dist-packages/numpy/core/include -I/usr/include/python3.6m -c darkflow/cython_utils/nms.c -o build/temp.linux-x86_64-3.6/darkflow/cython_utils/nms.o\n",
            "In file included from \u001b[01m\u001b[K/usr/local/lib/python3.6/dist-packages/numpy/core/include/numpy/ndarraytypes.h:1822:0\u001b[m\u001b[K,\n",
            "                 from \u001b[01m\u001b[K/usr/local/lib/python3.6/dist-packages/numpy/core/include/numpy/ndarrayobject.h:12\u001b[m\u001b[K,\n",
            "                 from \u001b[01m\u001b[K/usr/local/lib/python3.6/dist-packages/numpy/core/include/numpy/arrayobject.h:4\u001b[m\u001b[K,\n",
            "                 from \u001b[01m\u001b[Kdarkflow/cython_utils/nms.c:615\u001b[m\u001b[K:\n",
            "\u001b[01m\u001b[K/usr/local/lib/python3.6/dist-packages/numpy/core/include/numpy/npy_1_7_deprecated_api.h:17:2:\u001b[m\u001b[K \u001b[01;35m\u001b[Kwarning: \u001b[m\u001b[K#warning \"Using deprecated NumPy API, disable it with \" \"#define NPY_NO_DEPRECATED_API NPY_1_7_API_VERSION\" [\u001b[01;35m\u001b[K-Wcpp\u001b[m\u001b[K]\n",
            " #\u001b[01;35m\u001b[Kwarning\u001b[m\u001b[K \"Using deprecated NumPy API, disable it with \" \\\n",
            "  \u001b[01;35m\u001b[K^~~~~~~\u001b[m\u001b[K\n",
            "creating build/lib.linux-x86_64-3.6\n",
            "creating build/lib.linux-x86_64-3.6/darkflow\n",
            "creating build/lib.linux-x86_64-3.6/darkflow/cython_utils\n",
            "x86_64-linux-gnu-gcc -pthread -shared -Wl,-O1 -Wl,-Bsymbolic-functions -Wl,-Bsymbolic-functions -Wl,-z,relro -Wl,-Bsymbolic-functions -Wl,-z,relro -g -fstack-protector-strong -Wformat -Werror=format-security -Wdate-time -D_FORTIFY_SOURCE=2 build/temp.linux-x86_64-3.6/darkflow/cython_utils/nms.o -lm -o build/lib.linux-x86_64-3.6/darkflow/cython_utils/nms.cpython-36m-x86_64-linux-gnu.so\n",
            "building 'darkflow.cython_utils.cy_yolo2_findboxes' extension\n",
            "x86_64-linux-gnu-gcc -pthread -DNDEBUG -g -fwrapv -O2 -Wall -g -fstack-protector-strong -Wformat -Werror=format-security -Wdate-time -D_FORTIFY_SOURCE=2 -fPIC -I/usr/local/lib/python3.6/dist-packages/numpy/core/include -I/usr/include/python3.6m -c darkflow/cython_utils/cy_yolo2_findboxes.c -o build/temp.linux-x86_64-3.6/darkflow/cython_utils/cy_yolo2_findboxes.o\n",
            "In file included from \u001b[01m\u001b[K/usr/local/lib/python3.6/dist-packages/numpy/core/include/numpy/ndarraytypes.h:1822:0\u001b[m\u001b[K,\n",
            "                 from \u001b[01m\u001b[K/usr/local/lib/python3.6/dist-packages/numpy/core/include/numpy/ndarrayobject.h:12\u001b[m\u001b[K,\n",
            "                 from \u001b[01m\u001b[K/usr/local/lib/python3.6/dist-packages/numpy/core/include/numpy/arrayobject.h:4\u001b[m\u001b[K,\n",
            "                 from \u001b[01m\u001b[Kdarkflow/cython_utils/cy_yolo2_findboxes.c:615\u001b[m\u001b[K:\n",
            "\u001b[01m\u001b[K/usr/local/lib/python3.6/dist-packages/numpy/core/include/numpy/npy_1_7_deprecated_api.h:17:2:\u001b[m\u001b[K \u001b[01;35m\u001b[Kwarning: \u001b[m\u001b[K#warning \"Using deprecated NumPy API, disable it with \" \"#define NPY_NO_DEPRECATED_API NPY_1_7_API_VERSION\" [\u001b[01;35m\u001b[K-Wcpp\u001b[m\u001b[K]\n",
            " #\u001b[01;35m\u001b[Kwarning\u001b[m\u001b[K \"Using deprecated NumPy API, disable it with \" \\\n",
            "  \u001b[01;35m\u001b[K^~~~~~~\u001b[m\u001b[K\n",
            "x86_64-linux-gnu-gcc -pthread -shared -Wl,-O1 -Wl,-Bsymbolic-functions -Wl,-Bsymbolic-functions -Wl,-z,relro -Wl,-Bsymbolic-functions -Wl,-z,relro -g -fstack-protector-strong -Wformat -Werror=format-security -Wdate-time -D_FORTIFY_SOURCE=2 build/temp.linux-x86_64-3.6/darkflow/cython_utils/cy_yolo2_findboxes.o -lm -o build/lib.linux-x86_64-3.6/darkflow/cython_utils/cy_yolo2_findboxes.cpython-36m-x86_64-linux-gnu.so\n",
            "building 'darkflow.cython_utils.cy_yolo_findboxes' extension\n",
            "x86_64-linux-gnu-gcc -pthread -DNDEBUG -g -fwrapv -O2 -Wall -g -fstack-protector-strong -Wformat -Werror=format-security -Wdate-time -D_FORTIFY_SOURCE=2 -fPIC -I/usr/local/lib/python3.6/dist-packages/numpy/core/include -I/usr/include/python3.6m -c darkflow/cython_utils/cy_yolo_findboxes.c -o build/temp.linux-x86_64-3.6/darkflow/cython_utils/cy_yolo_findboxes.o\n",
            "In file included from \u001b[01m\u001b[K/usr/local/lib/python3.6/dist-packages/numpy/core/include/numpy/ndarraytypes.h:1822:0\u001b[m\u001b[K,\n",
            "                 from \u001b[01m\u001b[K/usr/local/lib/python3.6/dist-packages/numpy/core/include/numpy/ndarrayobject.h:12\u001b[m\u001b[K,\n",
            "                 from \u001b[01m\u001b[K/usr/local/lib/python3.6/dist-packages/numpy/core/include/numpy/arrayobject.h:4\u001b[m\u001b[K,\n",
            "                 from \u001b[01m\u001b[Kdarkflow/cython_utils/cy_yolo_findboxes.c:615\u001b[m\u001b[K:\n",
            "\u001b[01m\u001b[K/usr/local/lib/python3.6/dist-packages/numpy/core/include/numpy/npy_1_7_deprecated_api.h:17:2:\u001b[m\u001b[K \u001b[01;35m\u001b[Kwarning: \u001b[m\u001b[K#warning \"Using deprecated NumPy API, disable it with \" \"#define NPY_NO_DEPRECATED_API NPY_1_7_API_VERSION\" [\u001b[01;35m\u001b[K-Wcpp\u001b[m\u001b[K]\n",
            " #\u001b[01;35m\u001b[Kwarning\u001b[m\u001b[K \"Using deprecated NumPy API, disable it with \" \\\n",
            "  \u001b[01;35m\u001b[K^~~~~~~\u001b[m\u001b[K\n",
            "x86_64-linux-gnu-gcc -pthread -shared -Wl,-O1 -Wl,-Bsymbolic-functions -Wl,-Bsymbolic-functions -Wl,-z,relro -Wl,-Bsymbolic-functions -Wl,-z,relro -g -fstack-protector-strong -Wformat -Werror=format-security -Wdate-time -D_FORTIFY_SOURCE=2 build/temp.linux-x86_64-3.6/darkflow/cython_utils/cy_yolo_findboxes.o -lm -o build/lib.linux-x86_64-3.6/darkflow/cython_utils/cy_yolo_findboxes.cpython-36m-x86_64-linux-gnu.so\n",
            "copying build/lib.linux-x86_64-3.6/darkflow/cython_utils/nms.cpython-36m-x86_64-linux-gnu.so -> darkflow/cython_utils\n",
            "copying build/lib.linux-x86_64-3.6/darkflow/cython_utils/cy_yolo2_findboxes.cpython-36m-x86_64-linux-gnu.so -> darkflow/cython_utils\n",
            "copying build/lib.linux-x86_64-3.6/darkflow/cython_utils/cy_yolo_findboxes.cpython-36m-x86_64-linux-gnu.so -> darkflow/cython_utils\n"
          ],
          "name": "stdout"
        }
      ]
    },
    {
      "cell_type": "code",
      "metadata": {
        "id": "1hPvOORLFz_J",
        "colab_type": "code",
        "outputId": "a22fe5bd-8438-4709-dac0-fe174ac6e2f9",
        "colab": {
          "base_uri": "https://localhost:8080/",
          "height": 187
        }
      },
      "source": [
        "pip install ."
      ],
      "execution_count": 0,
      "outputs": [
        {
          "output_type": "stream",
          "text": [
            "Processing /content/gdrive/My Drive/darkflow\n",
            "Building wheels for collected packages: darkflow\n",
            "  Building wheel for darkflow (setup.py) ... \u001b[?25l\u001b[?25hdone\n",
            "  Stored in directory: /tmp/pip-ephem-wheel-cache-h4ymc8vs/wheels/56/87/2a/00f669ea3d3d308e4fbe5d3f033bf4b54c55c0b90557a32dbb\n",
            "Successfully built darkflow\n",
            "Installing collected packages: darkflow\n",
            "  Found existing installation: darkflow 1.0.0\n",
            "    Uninstalling darkflow-1.0.0:\n",
            "      Successfully uninstalled darkflow-1.0.0\n",
            "Successfully installed darkflow-1.0.0\n"
          ],
          "name": "stdout"
        }
      ]
    },
    {
      "cell_type": "code",
      "metadata": {
        "id": "F7j8WxqLF6l5",
        "colab_type": "code",
        "colab": {}
      },
      "source": [
        "import matplotlib.pyplot as plt\n",
        "import numpy as np\n",
        "\n",
        "from darkflow.net.build import TFNet\n",
        "import cv2"
      ],
      "execution_count": 0,
      "outputs": []
    },
    {
      "cell_type": "code",
      "metadata": {
        "id": "F3s-5TvlKQGA",
        "colab_type": "code",
        "colab": {}
      },
      "source": [
        "options = {\"model\": \"cfg/yolo.cfg\", \"load\": \"bin/yolo.weights\", \"threshold\": 0.1, \"gpu\": 1.0}\n"
      ],
      "execution_count": 0,
      "outputs": []
    },
    {
      "cell_type": "code",
      "metadata": {
        "id": "VmmN2By1KQfI",
        "colab_type": "code",
        "outputId": "febdafca-cfc3-43a0-af76-43e5621c84b2",
        "colab": {
          "base_uri": "https://localhost:8080/",
          "height": 870
        }
      },
      "source": [
        "tfnet = TFNet(options)\n"
      ],
      "execution_count": 0,
      "outputs": [
        {
          "output_type": "stream",
          "text": [
            "Parsing ./cfg/yolo.cfg\n",
            "Parsing cfg/yolo.cfg\n",
            "Loading bin/yolo.weights ...\n",
            "Successfully identified 203934260 bytes\n",
            "Finished in 0.4455997943878174s\n",
            "Model has a coco model name, loading coco labels.\n",
            "\n",
            "Building net ...\n",
            "Source | Train? | Layer description                | Output size\n",
            "-------+--------+----------------------------------+---------------\n",
            "WARNING:tensorflow:From /usr/local/lib/python3.6/dist-packages/tensorflow/python/framework/op_def_library.py:263: colocate_with (from tensorflow.python.framework.ops) is deprecated and will be removed in a future version.\n",
            "Instructions for updating:\n",
            "Colocations handled automatically by placer.\n",
            "       |        | input                            | (?, 608, 608, 3)\n",
            " Load  |  Yep!  | conv 3x3p1_1  +bnorm  leaky      | (?, 608, 608, 32)\n",
            " Load  |  Yep!  | maxp 2x2p0_2                     | (?, 304, 304, 32)\n",
            " Load  |  Yep!  | conv 3x3p1_1  +bnorm  leaky      | (?, 304, 304, 64)\n",
            " Load  |  Yep!  | maxp 2x2p0_2                     | (?, 152, 152, 64)\n",
            " Load  |  Yep!  | conv 3x3p1_1  +bnorm  leaky      | (?, 152, 152, 128)\n",
            " Load  |  Yep!  | conv 1x1p0_1  +bnorm  leaky      | (?, 152, 152, 64)\n",
            " Load  |  Yep!  | conv 3x3p1_1  +bnorm  leaky      | (?, 152, 152, 128)\n",
            " Load  |  Yep!  | maxp 2x2p0_2                     | (?, 76, 76, 128)\n",
            " Load  |  Yep!  | conv 3x3p1_1  +bnorm  leaky      | (?, 76, 76, 256)\n",
            " Load  |  Yep!  | conv 1x1p0_1  +bnorm  leaky      | (?, 76, 76, 128)\n",
            " Load  |  Yep!  | conv 3x3p1_1  +bnorm  leaky      | (?, 76, 76, 256)\n",
            " Load  |  Yep!  | maxp 2x2p0_2                     | (?, 38, 38, 256)\n",
            " Load  |  Yep!  | conv 3x3p1_1  +bnorm  leaky      | (?, 38, 38, 512)\n",
            " Load  |  Yep!  | conv 1x1p0_1  +bnorm  leaky      | (?, 38, 38, 256)\n",
            " Load  |  Yep!  | conv 3x3p1_1  +bnorm  leaky      | (?, 38, 38, 512)\n",
            " Load  |  Yep!  | conv 1x1p0_1  +bnorm  leaky      | (?, 38, 38, 256)\n",
            " Load  |  Yep!  | conv 3x3p1_1  +bnorm  leaky      | (?, 38, 38, 512)\n",
            " Load  |  Yep!  | maxp 2x2p0_2                     | (?, 19, 19, 512)\n",
            " Load  |  Yep!  | conv 3x3p1_1  +bnorm  leaky      | (?, 19, 19, 1024)\n",
            " Load  |  Yep!  | conv 1x1p0_1  +bnorm  leaky      | (?, 19, 19, 512)\n",
            " Load  |  Yep!  | conv 3x3p1_1  +bnorm  leaky      | (?, 19, 19, 1024)\n",
            " Load  |  Yep!  | conv 1x1p0_1  +bnorm  leaky      | (?, 19, 19, 512)\n",
            " Load  |  Yep!  | conv 3x3p1_1  +bnorm  leaky      | (?, 19, 19, 1024)\n",
            " Load  |  Yep!  | conv 3x3p1_1  +bnorm  leaky      | (?, 19, 19, 1024)\n",
            " Load  |  Yep!  | conv 3x3p1_1  +bnorm  leaky      | (?, 19, 19, 1024)\n",
            " Load  |  Yep!  | concat [16]                      | (?, 38, 38, 512)\n",
            " Load  |  Yep!  | conv 1x1p0_1  +bnorm  leaky      | (?, 38, 38, 64)\n",
            " Load  |  Yep!  | local flatten 2x2                | (?, 19, 19, 256)\n",
            " Load  |  Yep!  | concat [27, 24]                  | (?, 19, 19, 1280)\n",
            " Load  |  Yep!  | conv 3x3p1_1  +bnorm  leaky      | (?, 19, 19, 1024)\n",
            " Load  |  Yep!  | conv 1x1p0_1    linear           | (?, 19, 19, 425)\n",
            "-------+--------+----------------------------------+---------------\n",
            "GPU mode with 1.0 usage\n",
            "Finished in 8.266680002212524s\n",
            "\n"
          ],
          "name": "stdout"
        }
      ]
    },
    {
      "cell_type": "code",
      "metadata": {
        "id": "_CZ_hXVgLFk4",
        "colab_type": "code",
        "colab": {}
      },
      "source": [
        "def boxing(original_img, predictions):\n",
        "    newImage = np.copy(original_img)\n",
        "\n",
        "    for result in predictions:\n",
        "        top_x = result['topleft']['x']\n",
        "        top_y = result['topleft']['y']\n",
        "\n",
        "        btm_x = result['bottomright']['x']\n",
        "        btm_y = result['bottomright']['y']\n",
        "\n",
        "        confidence = result['confidence']\n",
        "        label = result['label'] + \" \" + str(round(confidence, 3))\n",
        "\n",
        "        if confidence > 0.3:\n",
        "            newImage = cv2.rectangle(newImage, (top_x, top_y), (btm_x, btm_y), (255,0,0), 3)\n",
        "            newImage = cv2.putText(newImage, label, (top_x, top_y-5), cv2.FONT_HERSHEY_COMPLEX_SMALL , 0.8, (0, 230, 0), 1, cv2.LINE_AA)\n",
        "            \n",
        "    return newImage"
      ],
      "execution_count": 0,
      "outputs": []
    },
    {
      "cell_type": "code",
      "metadata": {
        "id": "-7vkO74wKXd4",
        "colab_type": "code",
        "outputId": "1654cb20-a104-44af-a639-3da658407164",
        "colab": {
          "base_uri": "https://localhost:8080/",
          "height": 1955
        }
      },
      "source": [
        "#CODE FOR PARSING DATA FROM INPUT FOLDER PATH AND THEN STORING OUTPUT IMAGES IN \n",
        "#CORRESPONDING OUTPUT PATH WITH CORRESPONDING PARAMETERS STORAGE IN A CSV FILE. \n",
        "\n",
        "import os\n",
        "import pprint as pp\n",
        "import csv\n",
        "input_path=\"./sample_img\"\n",
        "out_path = 'output_images/'\n",
        "img_cnt=1\n",
        "\n",
        "with open('output_parameter.csv', mode='w') as employee_file:\n",
        "  \n",
        "  for filename in os.listdir(input_path):\n",
        "    \n",
        "      if filename.endswith(\".jpg\") or filename.endswith(\".png\"): \n",
        "        \n",
        "          img_file=os.path.join(input_path, filename)\n",
        "          print('\\n' + img_file + '\\n')\n",
        "          original_img = cv2.imread(img_file)\n",
        "          original_img = cv2.cvtColor(original_img, cv2.COLOR_BGR2RGB)\n",
        "          results = tfnet.return_predict(original_img)\n",
        "\n",
        "          employee_writer = csv.writer(employee_file, delimiter=',', quotechar='\"', quoting=csv.QUOTE_MINIMAL)\n",
        "          employee_writer.writerow([results])\n",
        "          \n",
        "          final_img=boxing(original_img, results)\n",
        "          out_img = cv2.cvtColor(final_img, cv2.COLOR_BGR2RGB)\n",
        "          \n",
        "          cv2.imwrite(os.path.join(out_path , 'out'+ str(img_cnt) + '.jpg'), out_img)\n",
        "          img_cnt+=1\n",
        "          pp.pprint(results)\n",
        "              \n",
        "      else:\n",
        "          continue"
      ],
      "execution_count": 72,
      "outputs": [
        {
          "output_type": "stream",
          "text": [
            "\n",
            "./sample_img/sample_computer.jpg\n",
            "\n",
            "[{'bottomright': {'x': 407, 'y': 314},\n",
            "  'confidence': 0.15920235,\n",
            "  'label': 'laptop',\n",
            "  'topleft': {'x': 325, 'y': 147}},\n",
            " {'bottomright': {'x': 420, 'y': 315},\n",
            "  'confidence': 0.5383351,\n",
            "  'label': 'cup',\n",
            "  'topleft': {'x': 320, 'y': 146}},\n",
            " {'bottomright': {'x': 483, 'y': 364},\n",
            "  'confidence': 0.15617442,\n",
            "  'label': 'bowl',\n",
            "  'topleft': {'x': 418, 'y': 317}},\n",
            " {'bottomright': {'x': 347, 'y': 278},\n",
            "  'confidence': 0.8700206,\n",
            "  'label': 'tvmonitor',\n",
            "  'topleft': {'x': 160, 'y': 95}},\n",
            " {'bottomright': {'x': 425, 'y': 374},\n",
            "  'confidence': 0.31087458,\n",
            "  'label': 'mouse',\n",
            "  'topleft': {'x': 373, 'y': 346}},\n",
            " {'bottomright': {'x': 334, 'y': 372},\n",
            "  'confidence': 0.80592436,\n",
            "  'label': 'keyboard',\n",
            "  'topleft': {'x': 121, 'y': 261}},\n",
            " {'bottomright': {'x': 129, 'y': 356},\n",
            "  'confidence': 0.45226255,\n",
            "  'label': 'refrigerator',\n",
            "  'topleft': {'x': 0, 'y': 17}}]\n",
            "\n",
            "./sample_img/sample_dog.jpg\n",
            "\n",
            "[{'bottomright': {'x': 109, 'y': 95},\n",
            "  'confidence': 0.11069518,\n",
            "  'label': 'person',\n",
            "  'topleft': {'x': 82, 'y': 73}},\n",
            " {'bottomright': {'x': 115, 'y': 124},\n",
            "  'confidence': 0.15949161,\n",
            "  'label': 'person',\n",
            "  'topleft': {'x': 60, 'y': 75}},\n",
            " {'bottomright': {'x': 710, 'y': 146},\n",
            "  'confidence': 0.14002073,\n",
            "  'label': 'person',\n",
            "  'topleft': {'x': 687, 'y': 119}},\n",
            " {'bottomright': {'x': 551, 'y': 463},\n",
            "  'confidence': 0.8053036,\n",
            "  'label': 'bicycle',\n",
            "  'topleft': {'x': 84, 'y': 115}},\n",
            " {'bottomright': {'x': 698, 'y': 168},\n",
            "  'confidence': 0.8214264,\n",
            "  'label': 'truck',\n",
            "  'topleft': {'x': 461, 'y': 82}},\n",
            " {'bottomright': {'x': 326, 'y': 535},\n",
            "  'confidence': 0.82291675,\n",
            "  'label': 'dog',\n",
            "  'topleft': {'x': 130, 'y': 215}}]\n",
            "\n",
            "./sample_img/sample_eagle.jpg\n",
            "\n",
            "[{'bottomright': {'x': 643, 'y': 474},\n",
            "  'confidence': 0.9432594,\n",
            "  'label': 'bird',\n",
            "  'topleft': {'x': 130, 'y': 44}}]\n",
            "\n",
            "./sample_img/sample_horses.jpg\n",
            "\n",
            "[{'bottomright': {'x': 457, 'y': 257},\n",
            "  'confidence': 0.1272576,\n",
            "  'label': 'horse',\n",
            "  'topleft': {'x': 392, 'y': 208}},\n",
            " {'bottomright': {'x': 149, 'y': 339},\n",
            "  'confidence': 0.49575388,\n",
            "  'label': 'horse',\n",
            "  'topleft': {'x': 4, 'y': 176}},\n",
            " {'bottomright': {'x': 451, 'y': 316},\n",
            "  'confidence': 0.36953965,\n",
            "  'label': 'horse',\n",
            "  'topleft': {'x': 321, 'y': 200}},\n",
            " {'bottomright': {'x': 433, 'y': 370},\n",
            "  'confidence': 0.7813918,\n",
            "  'label': 'horse',\n",
            "  'topleft': {'x': 245, 'y': 197}},\n",
            " {'bottomright': {'x': 599, 'y': 350},\n",
            "  'confidence': 0.8956794,\n",
            "  'label': 'horse',\n",
            "  'topleft': {'x': 433, 'y': 210}},\n",
            " {'bottomright': {'x': 309, 'y': 410},\n",
            "  'confidence': 0.8546299,\n",
            "  'label': 'horse',\n",
            "  'topleft': {'x': 0, 'y': 193}}]\n",
            "\n",
            "./sample_img/sample_person.jpg\n",
            "\n",
            "[{'bottomright': {'x': 271, 'y': 375},\n",
            "  'confidence': 0.833129,\n",
            "  'label': 'person',\n",
            "  'topleft': {'x': 187, 'y': 103}},\n",
            " {'bottomright': {'x': 205, 'y': 354},\n",
            "  'confidence': 0.8508311,\n",
            "  'label': 'dog',\n",
            "  'topleft': {'x': 69, 'y': 259}},\n",
            " {'bottomright': {'x': 606, 'y': 352},\n",
            "  'confidence': 0.8790006,\n",
            "  'label': 'horse',\n",
            "  'topleft': {'x': 397, 'y': 127}}]\n",
            "\n",
            "./sample_img/sample_scream.jpg\n",
            "\n",
            "[{'bottomright': {'x': 342, 'y': 375},\n",
            "  'confidence': 0.31926435,\n",
            "  'label': 'vase',\n",
            "  'topleft': {'x': 42, 'y': 16}}]\n"
          ],
          "name": "stdout"
        }
      ]
    }
  ]
}